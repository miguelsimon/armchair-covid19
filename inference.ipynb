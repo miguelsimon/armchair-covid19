{
 "cells": [
  {
   "cell_type": "markdown",
   "metadata": {},
   "source": [
    "# Bayesian model\n",
    "\n",
    "So that's cool, we can run the SIR model forward given parameters and get predictions depending on our scenario.\n",
    "\n",
    "Now we want to use publically available data (deaths per day) to estimate those parameters from data.\n",
    "\n",
    "We can create a bayesian hierarchical model for this:\n",
    "\n",
    "* $deaths[i]$: observed variable, daily deaths, distributed depending on infection fatality rate and daily recoveries: $P(deaths[i] \\mid \\alpha, recovered[i])$\n",
    "* $recovered(i, s_0, \\beta_0, \\beta_1, t\\_lock, \\gamma)$: recovered at day $i$, depends deterministically on our model\n",
    "* $\\alpha$ infection fatality rate\n",
    "* $s_0$ SIR state for day 0\n",
    "* $\\beta_0$ SIR model beta for no-lockdown days\n",
    "* $\\beta_1$ SIR model beta for lockdown days\n",
    "* $t\\_lock$: point in time where lockdown measures are implemented\n",
    "* $\\gamma$ SIR model gamma, independent of lockdown\n",
    "\n",
    "\n",
    "The distribution over the parameters is proportional to (assuming uniform priors over parameters to avoid writing their priors):\n",
    "\n",
    "$$\n",
    "P(\\alpha, s_0, \\beta_0, \\beta_1, \\gamma) \\propto \\prod_i{P(deaths[i] \\mid \\alpha, recovered(i, s_0, \\beta_0, \\beta_1, t\\_lock, \\gamma))}\n",
    "$$"
   ]
  },
  {
   "cell_type": "markdown",
   "metadata": {},
   "source": [
    "## $P(deaths[i] \\mid \\alpha, recovered[i])$\n",
    "\n",
    "We're going to use the [gaussian approximation to the binomial](https://en.wikipedia.org/wiki/Binomial_distribution#Normal_approximation) and say the number of deaths per day follows this distribution, conditional on the number of recoveries per day and the infection fatality rate:\n",
    "\n",
    "$$\n",
    "deaths[i] \\sim \\mathcal{N}(recovered[i] \\cdot \\alpha, recovered[i]\\cdot \\alpha \\cdot (1-\\alpha)))\n",
    "$$"
   ]
  },
  {
   "cell_type": "markdown",
   "metadata": {},
   "source": [
    "## Inference problem specification\n",
    "\n",
    "To fully characterize an inference problem that will use this model, we need the following parameters (copying the docs from the `Spec` class that represents a problem specification):\n",
    "\n",
    "```\n",
    "population : float\n",
    "    Total population for the region being studied\n",
    "deaths : ndarray\n",
    "    daily death counts due to disease\n",
    "b_infected : Tuple[float]\n",
    "    lower and upper bounds on the possible infected population on day 0\n",
    "b_alpha : Tuple[float]\n",
    "    lu bounds on infection fatality rate\n",
    "b_beta_0 : Tuple[float]\n",
    "    lu bounds on SIR beta prior to lockdown\n",
    "b_beta_1 : Tuple[float]\n",
    "    lu bounds on SIR beta after lockdown\n",
    "t_lock : float\n",
    "    time lockdown went into effect\n",
    "b_gamma : Tuple[float]\n",
    "    lu bounds on SIR gamma\n",
    "```"
   ]
  },
  {
   "cell_type": "code",
   "execution_count": null,
   "metadata": {},
   "outputs": [],
   "source": []
  }
 ],
 "metadata": {
  "kernelspec": {
   "display_name": "Python 3",
   "language": "python",
   "name": "python3"
  },
  "language_info": {
   "codemirror_mode": {
    "name": "ipython",
    "version": 3
   },
   "file_extension": ".py",
   "mimetype": "text/x-python",
   "name": "python",
   "nbconvert_exporter": "python",
   "pygments_lexer": "ipython3",
   "version": "3.7.3"
  }
 },
 "nbformat": 4,
 "nbformat_minor": 4
}
