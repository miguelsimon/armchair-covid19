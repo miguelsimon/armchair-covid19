{
 "cells": [
  {
   "cell_type": "code",
   "execution_count": 1,
   "metadata": {},
   "outputs": [],
   "source": [
    "%matplotlib inline \n",
    "import numpy as np\n",
    "import pandas\n",
    "import matplotlib.pyplot as plt\n",
    "\n",
    "import sir\n",
    "import inference"
   ]
  },
  {
   "cell_type": "markdown",
   "metadata": {},
   "source": [
    "* [Bayesian model](#Bayesian-model)\n",
    "* [Inference problem specification](#Inference-problem-specification)\n",
    "* [Generate markov chain samples](#Generate-markov-chain-samples)"
   ]
  },
  {
   "cell_type": "markdown",
   "metadata": {},
   "source": [
    "# Bayesian model\n",
    "\n",
    "So that's cool, we can run the SIR model forward given parameters and get predictions depending on our scenario.\n",
    "\n",
    "Now we want to use publically available data (deaths per day) to estimate those parameters from data.\n",
    "\n",
    "We can create a bayesian hierarchical model for this:\n",
    "\n",
    "* $deaths[i]$: observed variable, daily deaths, distributed depending on infection fatality rate and daily recoveries: $P(deaths[i] \\mid \\alpha, recovered[i])$\n",
    "* $recovered(i, s_0, \\beta_0, \\beta_1, t\\_lock, \\gamma)$: recovered at day $i$, depends deterministically on our model\n",
    "* $\\alpha$ infection fatality rate\n",
    "* $s_0$ SIR state for day 0\n",
    "* $\\beta_0$ SIR model beta for no-lockdown days\n",
    "* $\\beta_1$ SIR model beta for lockdown days\n",
    "* $t\\_lock$: point in time where lockdown measures are implemented\n",
    "* $\\gamma$ SIR model gamma, independent of lockdown\n",
    "\n",
    "\n",
    "The distribution over the parameters is proportional to (assuming uniform priors over parameters to avoid writing their priors):\n",
    "\n",
    "$$\n",
    "P(\\alpha, s_0, \\beta_0, \\beta_1, \\gamma) \\propto \\prod_i{P(deaths[i] \\mid \\alpha, recovered(i, s_0, \\beta_0, \\beta_1, t\\_lock, \\gamma))}\n",
    "$$"
   ]
  },
  {
   "cell_type": "markdown",
   "metadata": {},
   "source": [
    "To calculate $P(deaths[i] \\mid \\alpha, recovered[i])$ we're going to use the [gaussian approximation to the binomial](https://en.wikipedia.org/wiki/Binomial_distribution#Normal_approximation) and say the number of deaths per day follows this distribution, conditional on the number of recoveries per day and the infection fatality rate:\n",
    "\n",
    "$$\n",
    "deaths[i] \\sim \\mathcal{N}(recovered[i] \\cdot \\alpha, recovered[i]\\cdot \\alpha \\cdot (1-\\alpha)))\n",
    "$$"
   ]
  },
  {
   "cell_type": "markdown",
   "metadata": {},
   "source": [
    "## Inference problem specification\n",
    "\n",
    "Let's load some data:"
   ]
  },
  {
   "cell_type": "code",
   "execution_count": 2,
   "metadata": {},
   "outputs": [],
   "source": [
    "df = pandas.read_csv('new_deaths.csv')\n",
    "deaths = np.array(df['Spain'])\n",
    "dates = np.array(df['date'])\n",
    "\n",
    "# lockdown starts 2020-03-05, find day index\n",
    "t_lock = np.where(dates == '2020-03-05')[0][0]\n"
   ]
  },
  {
   "cell_type": "markdown",
   "metadata": {},
   "source": [
    "To fully characterize an inference problem that will use this model, we need the following parameters:"
   ]
  },
  {
   "cell_type": "code",
   "execution_count": 3,
   "metadata": {},
   "outputs": [],
   "source": [
    "spec = inference.Spec(\n",
    "            population=46.66 * 1000000,\n",
    "            deaths=deaths,\n",
    "            b_infected=(1.0, 10000.0),\n",
    "            b_alpha=(0.0001, 0.05),\n",
    "            b_beta_0=(0.005, 0.8),\n",
    "            b_beta_1=(0.005, 0.8),\n",
    "            t_lock=t_lock,\n",
    "            b_gamma=(1 / 30.0, 1 / 10.0),\n",
    "            fuzz = 20.\n",
    "        )"
   ]
  },
  {
   "cell_type": "markdown",
   "metadata": {},
   "source": [
    "## Generate markov chain samples\n",
    "\n",
    "We're ready to use our hideously inefficient mcmc sampler to sample from the posterior:"
   ]
  },
  {
   "cell_type": "code",
   "execution_count": 4,
   "metadata": {},
   "outputs": [
    {
     "name": "stderr",
     "output_type": "stream",
     "text": [
      "/Users/miguelsimon/armchair-covid19/inference.py:203: RuntimeWarning: overflow encountered in exp\n",
      "  acceptance_ratio = np.exp(log_acceptance_ratio)\n"
     ]
    }
   ],
   "source": [
    "sampler = inference.MCMCSampler(spec)\n",
    "\n",
    "for i in range(3000):\n",
    "    sampler.step()"
   ]
  },
  {
   "cell_type": "markdown",
   "metadata": {},
   "source": [
    "We should see the log probability rise after an initial burn in period:"
   ]
  },
  {
   "cell_type": "code",
   "execution_count": 5,
   "metadata": {},
   "outputs": [
    {
     "data": {
      "image/png": "[encoded data removed]",
      "text/plain": [
       "<Figure size 432x288 with 1 Axes>"
      ]
     },
     "metadata": {
      "needs_background": "light"
     },
     "output_type": "display_data"
    }
   ],
   "source": [
    "plt.plot(sampler.logps)\n",
    "plt.show()\n"
   ]
  },
  {
   "cell_type": "code",
   "execution_count": 6,
   "metadata": {},
   "outputs": [
    {
     "data": {
      "text/plain": [
       "0.07663664176232154"
      ]
     },
     "execution_count": 6,
     "metadata": {},
     "output_type": "execute_result"
    },
    {
     "data": {
      "image/png": "[encoded data removed]",
      "text/plain": [
       "<Figure size 432x288 with 1 Axes>"
      ]
     },
     "metadata": {
      "needs_background": "light"
     },
     "output_type": "display_data"
    }
   ],
   "source": [
    "# discard first samples\n",
    "samples = sampler.samples[2000:]\n",
    "\n",
    "_ = plt.hist([s.gamma for s in samples], range = spec.b_gamma)\n",
    "np.mean([s.gamma for s in samples])"
   ]
  },
  {
   "cell_type": "code",
   "execution_count": 7,
   "metadata": {},
   "outputs": [
    {
     "data": {
      "text/plain": [
       "5137.630353312687"
      ]
     },
     "execution_count": 7,
     "metadata": {},
     "output_type": "execute_result"
    },
    {
     "data": {
      "image/png": "[encoded data removed]",
      "text/plain": [
       "<Figure size 432x288 with 1 Axes>"
      ]
     },
     "metadata": {
      "needs_background": "light"
     },
     "output_type": "display_data"
    }
   ],
   "source": [
    "_ = plt.hist([s.infected for s in samples], range = spec.b_infected)\n",
    "np.mean([s.infected for s in samples])"
   ]
  },
  {
   "cell_type": "code",
   "execution_count": 8,
   "metadata": {},
   "outputs": [
    {
     "data": {
      "text/plain": [
       "0.11602103500720524"
      ]
     },
     "execution_count": 8,
     "metadata": {},
     "output_type": "execute_result"
    },
    {
     "data": {
      "image/png": "[encoded data removed]",
      "text/plain": [
       "<Figure size 432x288 with 1 Axes>"
      ]
     },
     "metadata": {
      "needs_background": "light"
     },
     "output_type": "display_data"
    }
   ],
   "source": [
    "_ = plt.hist([s.beta_0 for s in samples], range = spec.b_beta_0)\n",
    "np.mean([s.beta_0 for s in samples])"
   ]
  },
  {
   "cell_type": "code",
   "execution_count": 9,
   "metadata": {},
   "outputs": [
    {
     "data": {
      "text/plain": [
       "0.38845293770130745"
      ]
     },
     "execution_count": 9,
     "metadata": {},
     "output_type": "execute_result"
    },
    {
     "data": {
      "image/png": "[encoded data removed]",
      "text/plain": [
       "<Figure size 432x288 with 1 Axes>"
      ]
     },
     "metadata": {
      "needs_background": "light"
     },
     "output_type": "display_data"
    }
   ],
   "source": [
    "_ = plt.hist([s.beta_1 for s in samples], range = spec.b_beta_1)\n",
    "np.mean([s.beta_1 for s in samples])"
   ]
  },
  {
   "cell_type": "code",
   "execution_count": 10,
   "metadata": {},
   "outputs": [
    {
     "data": {
      "text/plain": [
       "0.0005138048098993518"
      ]
     },
     "execution_count": 10,
     "metadata": {},
     "output_type": "execute_result"
    },
    {
     "data": {
      "image/png": "[encoded data removed]",
      "text/plain": [
       "<Figure size 432x288 with 1 Axes>"
      ]
     },
     "metadata": {
      "needs_background": "light"
     },
     "output_type": "display_data"
    }
   ],
   "source": [
    "_ = plt.hist([s.alpha for s in samples], range = spec.b_alpha)\n",
    "np.mean([s.alpha for s in samples])"
   ]
  },
  {
   "cell_type": "code",
   "execution_count": 11,
   "metadata": {},
   "outputs": [
    {
     "data": {
      "text/plain": [
       "[<matplotlib.lines.Line2D at 0x11c414630>]"
      ]
     },
     "execution_count": 11,
     "metadata": {},
     "output_type": "execute_result"
    },
    {
     "data": {
      "image/png": "[encoded data removed]",
      "text/plain": [
       "<Figure size 432x288 with 1 Axes>"
      ]
     },
     "metadata": {
      "needs_background": "light"
     },
     "output_type": "display_data"
    }
   ],
   "source": [
    "predict = inference.Predict(spec)\n",
    "coord = samples[-1]\n",
    "predicted_mean_deaths = predict.predict(coord)\n",
    "\n",
    "plt.plot(np.arange(365), predicted_mean_deaths)\n",
    "plt.plot(np.arange(len(deaths)), deaths, 'ro')"
   ]
  },
  {
   "cell_type": "code",
   "execution_count": null,
   "metadata": {},
   "outputs": [],
   "source": []
  }
 ],
 "metadata": {
  "kernelspec": {
   "display_name": "Python 3",
   "language": "python",
   "name": "python3"
  },
  "language_info": {
   "codemirror_mode": {
    "name": "ipython",
    "version": 3
   },
   "file_extension": ".py",
   "mimetype": "text/x-python",
   "name": "python",
   "nbconvert_exporter": "python",
   "pygments_lexer": "ipython3",
   "version": "3.7.3"
  }
 },
 "nbformat": 4,
 "nbformat_minor": 4
}
